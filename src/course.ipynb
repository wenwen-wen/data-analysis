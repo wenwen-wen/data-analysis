{
 "cells": [
  {
   "cell_type": "code",
   "execution_count": 6,
   "id": "fb02b871-60d8-434d-abb0-4a3ee5c3dc0a",
   "metadata": {},
   "outputs": [
    {
     "data": {
      "text/html": [
       "<div>\n",
       "<style scoped>\n",
       "    .dataframe tbody tr th:only-of-type {\n",
       "        vertical-align: middle;\n",
       "    }\n",
       "\n",
       "    .dataframe tbody tr th {\n",
       "        vertical-align: top;\n",
       "    }\n",
       "\n",
       "    .dataframe thead th {\n",
       "        text-align: right;\n",
       "    }\n",
       "</style>\n",
       "<table border=\"1\" class=\"dataframe\">\n",
       "  <thead>\n",
       "    <tr style=\"text-align: right;\">\n",
       "      <th></th>\n",
       "      <th>P001TAC</th>\n",
       "      <th>P001TCE</th>\n",
       "      <th>P001TLS</th>\n",
       "      <th>P001TNA</th>\n",
       "      <th>P001TSC</th>\n",
       "      <th>P001TSS</th>\n",
       "      <th>P001TST</th>\n",
       "      <th>P001TWA</th>\n",
       "      <th>P002TAC</th>\n",
       "      <th>P002TCE</th>\n",
       "      <th>...</th>\n",
       "      <th>PAS061</th>\n",
       "      <th>PAS062</th>\n",
       "      <th>PAS063</th>\n",
       "      <th>PAS065</th>\n",
       "      <th>PAS066</th>\n",
       "      <th>TPS</th>\n",
       "      <th>edate</th>\n",
       "      <th>ename</th>\n",
       "      <th>sid</th>\n",
       "      <th>sname</th>\n",
       "    </tr>\n",
       "  </thead>\n",
       "  <tbody>\n",
       "    <tr>\n",
       "      <th>0</th>\n",
       "      <td>0.0</td>\n",
       "      <td>0.0</td>\n",
       "      <td>0.0</td>\n",
       "      <td>0.0</td>\n",
       "      <td>0.0</td>\n",
       "      <td>0.0</td>\n",
       "      <td>0.0</td>\n",
       "      <td>0.0</td>\n",
       "      <td>0.0</td>\n",
       "      <td>0.0</td>\n",
       "      <td>...</td>\n",
       "      <td>0.0</td>\n",
       "      <td>0.0</td>\n",
       "      <td>0.0</td>\n",
       "      <td>0.0</td>\n",
       "      <td>0.0</td>\n",
       "      <td>4</td>\n",
       "      <td>20230925</td>\n",
       "      <td>小考-1</td>\n",
       "      <td>wbafgIHx2Chhlkf5K02WMAyNRLf1</td>\n",
       "      <td>賴彥璋</td>\n",
       "    </tr>\n",
       "    <tr>\n",
       "      <th>1</th>\n",
       "      <td>0.0</td>\n",
       "      <td>0.0</td>\n",
       "      <td>0.0</td>\n",
       "      <td>0.0</td>\n",
       "      <td>0.0</td>\n",
       "      <td>0.0</td>\n",
       "      <td>0.0</td>\n",
       "      <td>0.0</td>\n",
       "      <td>0.0</td>\n",
       "      <td>0.0</td>\n",
       "      <td>...</td>\n",
       "      <td>0.0</td>\n",
       "      <td>0.0</td>\n",
       "      <td>0.0</td>\n",
       "      <td>0.0</td>\n",
       "      <td>0.0</td>\n",
       "      <td>4</td>\n",
       "      <td>20230925</td>\n",
       "      <td>小考-1</td>\n",
       "      <td>W6bytQYJMThcDJeVcIJNaJuMwa12</td>\n",
       "      <td>臧韋翔</td>\n",
       "    </tr>\n",
       "    <tr>\n",
       "      <th>2</th>\n",
       "      <td>0.0</td>\n",
       "      <td>0.0</td>\n",
       "      <td>0.0</td>\n",
       "      <td>0.0</td>\n",
       "      <td>0.0</td>\n",
       "      <td>0.0</td>\n",
       "      <td>0.0</td>\n",
       "      <td>0.0</td>\n",
       "      <td>0.0</td>\n",
       "      <td>0.0</td>\n",
       "      <td>...</td>\n",
       "      <td>0.0</td>\n",
       "      <td>0.0</td>\n",
       "      <td>0.0</td>\n",
       "      <td>0.0</td>\n",
       "      <td>0.0</td>\n",
       "      <td>4</td>\n",
       "      <td>20230925</td>\n",
       "      <td>小考-1</td>\n",
       "      <td>PvaX2Q3jgVfuDD0JmNpp0tm01Xe2</td>\n",
       "      <td>林婕蓁</td>\n",
       "    </tr>\n",
       "    <tr>\n",
       "      <th>3</th>\n",
       "      <td>0.0</td>\n",
       "      <td>0.0</td>\n",
       "      <td>0.0</td>\n",
       "      <td>0.0</td>\n",
       "      <td>0.0</td>\n",
       "      <td>0.0</td>\n",
       "      <td>0.0</td>\n",
       "      <td>0.0</td>\n",
       "      <td>0.0</td>\n",
       "      <td>0.0</td>\n",
       "      <td>...</td>\n",
       "      <td>0.0</td>\n",
       "      <td>0.0</td>\n",
       "      <td>0.0</td>\n",
       "      <td>0.0</td>\n",
       "      <td>0.0</td>\n",
       "      <td>4</td>\n",
       "      <td>20230925</td>\n",
       "      <td>小考-1</td>\n",
       "      <td>JuI7Uxg8hbOra1sVhwcJuONZkWO2</td>\n",
       "      <td>陳韋誌</td>\n",
       "    </tr>\n",
       "    <tr>\n",
       "      <th>4</th>\n",
       "      <td>0.0</td>\n",
       "      <td>0.0</td>\n",
       "      <td>0.0</td>\n",
       "      <td>0.0</td>\n",
       "      <td>0.0</td>\n",
       "      <td>0.0</td>\n",
       "      <td>0.0</td>\n",
       "      <td>0.0</td>\n",
       "      <td>0.0</td>\n",
       "      <td>0.0</td>\n",
       "      <td>...</td>\n",
       "      <td>0.0</td>\n",
       "      <td>0.0</td>\n",
       "      <td>0.0</td>\n",
       "      <td>0.0</td>\n",
       "      <td>0.0</td>\n",
       "      <td>4</td>\n",
       "      <td>20230925</td>\n",
       "      <td>小考-1</td>\n",
       "      <td>4kJZ8xRtbRV4tFujynh5mEmpNvj1</td>\n",
       "      <td>梁珮怡</td>\n",
       "    </tr>\n",
       "  </tbody>\n",
       "</table>\n",
       "<p>5 rows × 402 columns</p>\n",
       "</div>"
      ],
      "text/plain": [
       "   P001TAC  P001TCE  P001TLS  P001TNA  P001TSC  P001TSS  P001TST  P001TWA  \\\n",
       "0      0.0      0.0      0.0      0.0      0.0      0.0      0.0      0.0   \n",
       "1      0.0      0.0      0.0      0.0      0.0      0.0      0.0      0.0   \n",
       "2      0.0      0.0      0.0      0.0      0.0      0.0      0.0      0.0   \n",
       "3      0.0      0.0      0.0      0.0      0.0      0.0      0.0      0.0   \n",
       "4      0.0      0.0      0.0      0.0      0.0      0.0      0.0      0.0   \n",
       "\n",
       "   P002TAC  P002TCE  ...  PAS061  PAS062  PAS063  PAS065  PAS066  TPS  \\\n",
       "0      0.0      0.0  ...     0.0     0.0     0.0     0.0     0.0    4   \n",
       "1      0.0      0.0  ...     0.0     0.0     0.0     0.0     0.0    4   \n",
       "2      0.0      0.0  ...     0.0     0.0     0.0     0.0     0.0    4   \n",
       "3      0.0      0.0  ...     0.0     0.0     0.0     0.0     0.0    4   \n",
       "4      0.0      0.0  ...     0.0     0.0     0.0     0.0     0.0    4   \n",
       "\n",
       "      edate  ename                           sid  sname  \n",
       "0  20230925   小考-1  wbafgIHx2Chhlkf5K02WMAyNRLf1    賴彥璋  \n",
       "1  20230925   小考-1  W6bytQYJMThcDJeVcIJNaJuMwa12    臧韋翔  \n",
       "2  20230925   小考-1  PvaX2Q3jgVfuDD0JmNpp0tm01Xe2    林婕蓁  \n",
       "3  20230925   小考-1  JuI7Uxg8hbOra1sVhwcJuONZkWO2    陳韋誌  \n",
       "4  20230925   小考-1  4kJZ8xRtbRV4tFujynh5mEmpNvj1    梁珮怡  \n",
       "\n",
       "[5 rows x 402 columns]"
      ]
     },
     "execution_count": 6,
     "metadata": {},
     "output_type": "execute_result"
    }
   ],
   "source": [
    "import pandas as pd\n",
    "import matplotlib.pyplot as plt\n",
    "\n",
    "course_file = 'srcdata/2024-07-11/csv/C000018.csv'\n",
    "data = pd.read_csv(course_file)\n",
    "data.fillna(0, inplace=True)\n",
    "data.head()"
   ]
  },
  {
   "cell_type": "code",
   "execution_count": 10,
   "id": "04938262",
   "metadata": {},
   "outputs": [
    {
     "data": {
      "text/plain": [
       "(166, 402)"
      ]
     },
     "execution_count": 10,
     "metadata": {},
     "output_type": "execute_result"
    }
   ],
   "source": [
    "quizdata = data[data['ename'].str.startswith('小考')]\n",
    "quizdata.shape"
   ]
  },
  {
   "cell_type": "code",
   "execution_count": 20,
   "id": "620c49a0",
   "metadata": {},
   "outputs": [
    {
     "data": {
      "text/plain": [
       "(166, 352)"
      ]
     },
     "execution_count": 20,
     "metadata": {},
     "output_type": "execute_result"
    }
   ],
   "source": [
    "import re\n",
    "\n",
    "digit_columns = [col for col in data.columns if re.match('^P\\d+', col) and not col.startswith('PAS')]\n",
    "xdata = quizdata[digit_columns]\n",
    "xdata.shape"
   ]
  },
  {
   "cell_type": "code",
   "execution_count": 28,
   "id": "b1a15589",
   "metadata": {},
   "outputs": [
    {
     "data": {
      "text/plain": [
       "(166,)"
      ]
     },
     "execution_count": 28,
     "metadata": {},
     "output_type": "execute_result"
    }
   ],
   "source": [
    "pas_columns = [col for col in data.columns if col.startswith('PAS')]\n",
    "ydata = quizdata[pas_columns]\n",
    "ydata = ydata.loc[:, (ydata != 0).any(axis=0)]\n",
    "ydata.columns\n",
    "y2data = ydata.replace(-1, 0)\n",
    "zdata = y2data.sum(axis=1)\n",
    "zdata.shape"
   ]
  },
  {
   "cell_type": "code",
   "execution_count": 25,
   "id": "ddfe7682",
   "metadata": {},
   "outputs": [
    {
     "data": {
      "text/plain": [
       "Index(['P001TAC', 'P001TCE', 'P001TLS', 'P001TNA', 'P001TSC', 'P001TSS',\n",
       "       'P001TST', 'P001TWA', 'P002TAC', 'P002TCE',\n",
       "       ...\n",
       "       'P065TST', 'P065TWA', 'P066TAC', 'P066TCE', 'P066TLS', 'P066TNA',\n",
       "       'P066TSC', 'P066TSS', 'P066TST', 'P066TWA'],\n",
       "      dtype='object', length=352)"
      ]
     },
     "execution_count": 25,
     "metadata": {},
     "output_type": "execute_result"
    }
   ],
   "source": [
    "xdata.columns"
   ]
  },
  {
   "cell_type": "code",
   "execution_count": 29,
   "id": "edb608c7",
   "metadata": {},
   "outputs": [
    {
     "data": {
      "text/plain": [
       "(57, 402)"
      ]
     },
     "execution_count": 29,
     "metadata": {},
     "output_type": "execute_result"
    }
   ],
   "source": [
    "middata = data[data['ename'].str.startswith('期中')]\n",
    "middata.shape"
   ]
  },
  {
   "cell_type": "code",
   "execution_count": 58,
   "id": "92d93865",
   "metadata": {},
   "outputs": [
    {
     "data": {
      "text/plain": [
       "((57,), (57,))"
      ]
     },
     "execution_count": 58,
     "metadata": {},
     "output_type": "execute_result"
    }
   ],
   "source": [
    "import numpy as np\n",
    "\n",
    "tac_columns = [col for col in data.columns if 'TAC' in col]\n",
    "TACsum = middata[tac_columns].sum(axis=1)\n",
    "pas_columns = [col for col in data.columns if col.startswith('PAS')]\n",
    "mscore = middata[pas_columns].replace(-1, 0).sum(axis=1)\n",
    "# mscore = mscore + 0.1*np.random.rand(mscore.shape[0])\n",
    "TACsum.shape, mscore.shape"
   ]
  },
  {
   "cell_type": "code",
   "execution_count": 59,
   "id": "4edf4f10",
   "metadata": {},
   "outputs": [
    {
     "data": {
      "image/png": "[encoded data removed]",
      "text/plain": [
       "<Figure size 640x480 with 2 Axes>"
      ]
     },
     "metadata": {},
     "output_type": "display_data"
    }
   ],
   "source": [
    "import matplotlib.pyplot as plt\n",
    "\n",
    "plt.scatter(TACsum, mscore, c=mscore, cmap='viridis')\n",
    "plt.xlabel('TACsum')\n",
    "plt.ylabel('mscore')\n",
    "plt.title('Scatter Plot of TACsum vs mscore')\n",
    "plt.colorbar(label='mscore')\n",
    "plt.show()\n",
    "# plt.xlabel('TACsum')\n",
    "# plt.ylabel('mscore')\n",
    "# plt.title('Scatter Plot of TACsum vs mscore')\n",
    "# plt.show()"
   ]
  },
  {
   "cell_type": "code",
   "execution_count": 52,
   "id": "a50ad4a1",
   "metadata": {},
   "outputs": [
    {
     "name": "stdout",
     "output_type": "stream",
     "text": [
      "Correlation between TACsum and mscore: 0.24290547564172071\n"
     ]
    }
   ],
   "source": [
    "correlation = TACsum.corr(mscore)\n",
    "print(\"Correlation between TACsum and mscore:\", correlation)"
   ]
  },
  {
   "cell_type": "code",
   "execution_count": null,
   "id": "f4a4117e",
   "metadata": {},
   "outputs": [],
   "source": []
  }
 ],
 "metadata": {
  "kernelspec": {
   "display_name": "Python 3 (ipykernel)",
   "language": "python",
   "name": "python3"
  },
  "language_info": {
   "codemirror_mode": {
    "name": "ipython",
    "version": 3
   },
   "file_extension": ".py",
   "mimetype": "text/x-python",
   "name": "python",
   "nbconvert_exporter": "python",
   "pygments_lexer": "ipython3",
   "version": "3.8.13"
  }
 },
 "nbformat": 4,
 "nbformat_minor": 5
}
